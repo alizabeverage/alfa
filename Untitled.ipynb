{
 "cells": [
  {
   "cell_type": "code",
   "execution_count": 2,
   "id": "30223d90",
   "metadata": {},
   "outputs": [
    {
     "name": "stdout",
     "output_type": "stream",
     "text": [
      "/global/home/users/abeverage/alfalpha/alfa\n"
     ]
    }
   ],
   "source": [
    "cd alfa"
   ]
  },
  {
   "cell_type": "code",
   "execution_count": null,
   "id": "4f8e5e86",
   "metadata": {},
   "outputs": [],
   "source": [
    "from grids import Grids\n",
    "from read_data import Data\n",
    "from polynorm import polynorm\n",
    "import numpy as np\n",
    "import pandas as pd\n",
    "import csv\n",
    "import emcee\n",
    "# import corner\n",
    "from multiprocessing import Pool\n",
    "import matplotlib.pyplot as plt\n",
    "from schwimmbad import MPIPool\n",
    "from setup_params import setup_params, get_properties\n",
    "import os, sys\n",
    "from utils import correct_abundance\n",
    "from process_outputs import plot_outputs"
   ]
  },
  {
   "cell_type": "code",
   "execution_count": 5,
   "id": "64f275e8",
   "metadata": {},
   "outputs": [],
   "source": [
    "\n",
    "# must have alfa_home defined in bash profile\n",
    "ALFA_HOME = os.environ['ALFA_HOME']\n",
    "ALFA_OUT = os.environ['ALFA_OUT']\n",
    "\n",
    "# define which parameters to fit\n",
    "# you must have logage and zH\n",
    "parameters_to_fit = ['velz', 'sigma', 'logage', 'zH', 'feh', 'ah', 'ch', \n",
    "                'nh', 'nah', 'mgh', 'sih', 'kh', 'cah', 'tih', 'vh', \n",
    "                'crh']\n",
    "\n",
    "# get the positions and priors of parameters_to_fit\n",
    "default_pos, priors = setup_params(parameters_to_fit)\n",
    "\n",
    "# ~~~~~~~~~~~~~~~~~~~~~~~ probability stuff ~~~~~~~~~~~~~~~~~~~~~~~ #\n",
    "\n",
    "def lnlike(theta): #, data, grids):\n",
    "    # generate model according to theta\n",
    "    params = get_properties(theta,parameters_to_fit)\n",
    "    mflux = grids.get_model(params,outwave=data.wave)\n",
    "\n",
    "    #poly norm\n",
    "    poly, mfluxnorm = polynorm(data, mflux)\n",
    "\n",
    "    \n",
    "    return -0.5*np.nansum((data.flux - mfluxnorm)**2/(data.err**2))\n",
    "    \n",
    "def lnprior(theta):\n",
    "    check = np.array([prio[0] < p < prio[1] for (p,prio) in zip(theta,priors.values())])\n",
    "    if False not in check:\n",
    "        return 1.0\n",
    "    return -np.inf\n",
    "\n",
    "def lnprob(theta): #, data, grids):\n",
    "    lp = lnprior(theta)\n",
    "    if not np.isfinite(lp):\n",
    "        return -np.inf\n",
    "    return lp*lnlike(theta) #, data, grids)\n",
    "\n",
    "\n",
    "\n"
   ]
  },
  {
   "cell_type": "code",
   "execution_count": 4,
   "id": "d4d85ca2",
   "metadata": {},
   "outputs": [
    {
     "name": "stdout",
     "output_type": "stream",
     "text": [
      "Loading sn12_4...\n",
      "Loading grids...\n",
      "Smoothing grids to instrumental resolution = 0.0 km/s\n"
     ]
    }
   ],
   "source": [
    "nwalkers = 256\n",
    "nsteps = 10000\n",
    "nsteps_save = 1000\n",
    "\n",
    "# use command arguments to get filename\n",
    "filename = 'sn12_4'\n",
    "\n",
    "# set up data object\n",
    "print(f\"Loading {filename}...\")\n",
    "data = Data(filename)\n",
    "\n",
    "# you still need to add wavelength dependent ires\n",
    "# for now, just take the average of the data\n",
    "inst_res = np.average(data.ires) \n",
    "\n",
    "# set up grid object\n",
    "print(f\"Loading grids...\")\n",
    "grids = Grids(inst_res=inst_res)\n",
    "    "
   ]
  },
  {
   "cell_type": "code",
   "execution_count": null,
   "id": "fbbc2933",
   "metadata": {},
   "outputs": [
    {
     "name": "stderr",
     "output_type": "stream",
     "text": [
      "  1%|          | 87/10000 [00:28<53:17,  3.10it/s]  Process ForkPoolWorker-2:\n",
      "Process ForkPoolWorker-16:\n",
      "Process ForkPoolWorker-1:\n",
      "Process ForkPoolWorker-24:\n",
      "Process ForkPoolWorker-6:\n",
      "Process ForkPoolWorker-4:\n",
      "Process ForkPoolWorker-12:\n",
      "Process ForkPoolWorker-17:\n",
      "Process ForkPoolWorker-18:\n",
      "Process ForkPoolWorker-8:\n",
      "Process ForkPoolWorker-20:\n",
      "Process ForkPoolWorker-19:\n",
      "Process ForkPoolWorker-10:\n",
      "Process ForkPoolWorker-3:\n",
      "Process ForkPoolWorker-22:\n",
      "Process ForkPoolWorker-15:\n",
      "Process ForkPoolWorker-5:\n",
      "Process ForkPoolWorker-7:\n",
      "Process ForkPoolWorker-9:\n",
      "Process ForkPoolWorker-11:\n",
      "Traceback (most recent call last):\n",
      "Process ForkPoolWorker-13:\n",
      "Traceback (most recent call last):\n",
      "Process ForkPoolWorker-14:\n",
      "Traceback (most recent call last):\n",
      "Traceback (most recent call last):\n",
      "Traceback (most recent call last):\n",
      "Traceback (most recent call last):\n",
      "Traceback (most recent call last):\n",
      "  File \"/global/home/users/abeverage/.conda/envs/astrods/lib/python3.9/multiprocessing/process.py\", line 315, in _bootstrap\n",
      "    self.run()\n",
      "  File \"/global/home/users/abeverage/.conda/envs/astrods/lib/python3.9/multiprocessing/process.py\", line 315, in _bootstrap\n",
      "    self.run()\n",
      "Traceback (most recent call last):\n",
      "Traceback (most recent call last):\n",
      "Traceback (most recent call last):\n",
      "Traceback (most recent call last):\n",
      "Traceback (most recent call last):\n"
     ]
    },
    {
     "name": "stdout",
     "output_type": "stream",
     "text": [
      "emcee: Exception while calling your likelihood function:"
     ]
    },
    {
     "name": "stderr",
     "output_type": "stream",
     "text": [
      "Traceback (most recent call last):\n",
      "  File \"/global/home/users/abeverage/.conda/envs/astrods/lib/python3.9/multiprocessing/process.py\", line 315, in _bootstrap\n",
      "    self.run()\n",
      "  File \"/global/home/users/abeverage/.conda/envs/astrods/lib/python3.9/multiprocessing/process.py\", line 315, in _bootstrap\n",
      "    self.run()\n",
      "  File \"/global/home/users/abeverage/.conda/envs/astrods/lib/python3.9/multiprocessing/process.py\", line 108, in run\n",
      "    self._target(*self._args, **self._kwargs)\n",
      "Traceback (most recent call last):\n",
      "  File \"/global/home/users/abeverage/.conda/envs/astrods/lib/python3.9/multiprocessing/process.py\", line 315, in _bootstrap\n",
      "    self.run()\n",
      "  File \"/global/home/users/abeverage/.conda/envs/astrods/lib/python3.9/multiprocessing/process.py\", line 315, in _bootstrap\n",
      "    self.run()\n",
      "  File \"/global/home/users/abeverage/.conda/envs/astrods/lib/python3.9/multiprocessing/process.py\", line 315, in _bootstrap\n",
      "    self.run()\n",
      "  File \"/global/home/users/abeverage/.conda/envs/astrods/lib/python3.9/multiprocessing/process.py\", line 108, in run\n",
      "    self._target(*self._args, **self._kwargs)\n",
      "Traceback (most recent call last):\n",
      "  File \"/global/home/users/abeverage/.conda/envs/astrods/lib/python3.9/multiprocessing/process.py\", line 315, in _bootstrap\n",
      "    self.run()\n",
      "Traceback (most recent call last):\n",
      "  File \"/global/home/users/abeverage/.conda/envs/astrods/lib/python3.9/multiprocessing/process.py\", line 108, in run\n",
      "    self._target(*self._args, **self._kwargs)\n",
      "  File \"/global/home/users/abeverage/.conda/envs/astrods/lib/python3.9/multiprocessing/process.py\", line 315, in _bootstrap\n",
      "    self.run()\n",
      "Process ForkPoolWorker-21:\n",
      "  File \"/global/home/users/abeverage/.conda/envs/astrods/lib/python3.9/multiprocessing/process.py\", line 315, in _bootstrap\n",
      "    self.run()\n",
      "  File \"/global/home/users/abeverage/.conda/envs/astrods/lib/python3.9/multiprocessing/process.py\", line 315, in _bootstrap\n",
      "    self.run()\n",
      "  File \"/global/home/users/abeverage/.conda/envs/astrods/lib/python3.9/multiprocessing/process.py\", line 108, in run\n",
      "    self._target(*self._args, **self._kwargs)\n",
      "  File \"/global/home/users/abeverage/.conda/envs/astrods/lib/python3.9/multiprocessing/process.py\", line 315, in _bootstrap\n",
      "    self.run()\n",
      "  File \"/global/home/users/abeverage/.conda/envs/astrods/lib/python3.9/multiprocessing/process.py\", line 315, in _bootstrap\n",
      "    self.run()\n",
      "  File \"/global/home/users/abeverage/.conda/envs/astrods/lib/python3.9/multiprocessing/process.py\", line 108, in run\n",
      "    self._target(*self._args, **self._kwargs)\n",
      "  File \"/global/home/users/abeverage/.conda/envs/astrods/lib/python3.9/multiprocessing/process.py\", line 108, in run\n",
      "    self._target(*self._args, **self._kwargs)\n",
      "Traceback (most recent call last):\n",
      "  File \"/global/home/users/abeverage/.conda/envs/astrods/lib/python3.9/multiprocessing/pool.py\", line 114, in worker\n",
      "    task = get()\n",
      "  File \"/global/home/users/abeverage/.conda/envs/astrods/lib/python3.9/multiprocessing/process.py\", line 108, in run\n",
      "    self._target(*self._args, **self._kwargs)\n",
      "Traceback (most recent call last):\n",
      "  File \"/global/home/users/abeverage/.conda/envs/astrods/lib/python3.9/multiprocessing/process.py\", line 108, in run\n",
      "    self._target(*self._args, **self._kwargs)\n",
      "  File \"/global/home/users/abeverage/.conda/envs/astrods/lib/python3.9/multiprocessing/process.py\", line 108, in run\n",
      "    self._target(*self._args, **self._kwargs)\n",
      "  File \"/global/home/users/abeverage/.conda/envs/astrods/lib/python3.9/multiprocessing/process.py\", line 108, in run\n",
      "    self._target(*self._args, **self._kwargs)\n"
     ]
    },
    {
     "name": "stdout",
     "output_type": "stream",
     "text": [
      "\n"
     ]
    },
    {
     "name": "stderr",
     "output_type": "stream",
     "text": [
      "  File \"/global/home/users/abeverage/.conda/envs/astrods/lib/python3.9/multiprocessing/pool.py\", line 114, in worker\n",
      "    task = get()\n",
      "  File \"/global/home/users/abeverage/.conda/envs/astrods/lib/python3.9/multiprocessing/pool.py\", line 114, in worker\n",
      "    task = get()\n",
      "  File \"/global/home/users/abeverage/.conda/envs/astrods/lib/python3.9/multiprocessing/pool.py\", line 114, in worker\n",
      "    task = get()\n",
      "  File \"/global/home/users/abeverage/.conda/envs/astrods/lib/python3.9/multiprocessing/pool.py\", line 114, in worker\n",
      "    task = get()\n",
      "  File \"/global/home/users/abeverage/.conda/envs/astrods/lib/python3.9/multiprocessing/process.py\", line 108, in run\n",
      "    self._target(*self._args, **self._kwargs)\n",
      "  File \"/global/home/users/abeverage/.conda/envs/astrods/lib/python3.9/multiprocessing/pool.py\", line 114, in worker\n",
      "    task = get()\n",
      "  File \"/global/home/users/abeverage/.conda/envs/astrods/lib/python3.9/multiprocessing/process.py\", line 315, in _bootstrap\n",
      "    self.run()\n",
      "Traceback (most recent call last):\n",
      "Traceback (most recent call last):\n",
      "  File \"/global/home/users/abeverage/.conda/envs/astrods/lib/python3.9/multiprocessing/queues.py\", line 365, in get\n",
      "    with self._rlock:\n",
      "  File \"/global/home/users/abeverage/.conda/envs/astrods/lib/python3.9/multiprocessing/queues.py\", line 365, in get\n",
      "    with self._rlock:\n",
      "  File \"/global/home/users/abeverage/.conda/envs/astrods/lib/python3.9/multiprocessing/queues.py\", line 365, in get\n",
      "    with self._rlock:\n",
      "  File \"/global/home/users/abeverage/.conda/envs/astrods/lib/python3.9/multiprocessing/pool.py\", line 114, in worker\n",
      "    task = get()\n",
      "Traceback (most recent call last):\n",
      "  File \"/global/home/users/abeverage/.conda/envs/astrods/lib/python3.9/multiprocessing/process.py\", line 108, in run\n",
      "    self._target(*self._args, **self._kwargs)\n",
      "  File \"/global/home/users/abeverage/.conda/envs/astrods/lib/python3.9/multiprocessing/pool.py\", line 114, in worker\n",
      "    task = get()\n",
      "  File \"/global/home/users/abeverage/.conda/envs/astrods/lib/python3.9/multiprocessing/process.py\", line 315, in _bootstrap\n",
      "    self.run()\n",
      "  File \"/global/home/users/abeverage/.conda/envs/astrods/lib/python3.9/multiprocessing/pool.py\", line 114, in worker\n",
      "    task = get()\n",
      "Traceback (most recent call last):\n",
      "  File \"/global/home/users/abeverage/.conda/envs/astrods/lib/python3.9/multiprocessing/process.py\", line 108, in run\n",
      "    self._target(*self._args, **self._kwargs)\n",
      "  File \"/global/home/users/abeverage/.conda/envs/astrods/lib/python3.9/multiprocessing/synchronize.py\", line 95, in __enter__\n",
      "    return self._semlock.__enter__()\n",
      "  File \"/global/home/users/abeverage/.conda/envs/astrods/lib/python3.9/multiprocessing/queues.py\", line 365, in get\n",
      "    with self._rlock:\n",
      "  File \"/global/home/users/abeverage/.conda/envs/astrods/lib/python3.9/multiprocessing/pool.py\", line 114, in worker\n",
      "    task = get()\n",
      "  File \"/global/home/users/abeverage/.conda/envs/astrods/lib/python3.9/multiprocessing/process.py\", line 108, in run\n",
      "    self._target(*self._args, **self._kwargs)\n",
      "  File \"/global/home/users/abeverage/.conda/envs/astrods/lib/python3.9/multiprocessing/pool.py\", line 114, in worker\n",
      "    task = get()\n",
      "  File \"/global/home/users/abeverage/.conda/envs/astrods/lib/python3.9/multiprocessing/queues.py\", line 365, in get\n",
      "    with self._rlock:\n",
      "  File \"/global/home/users/abeverage/.conda/envs/astrods/lib/python3.9/multiprocessing/process.py\", line 315, in _bootstrap\n",
      "    self.run()\n",
      "  File \"/global/home/users/abeverage/.conda/envs/astrods/lib/python3.9/multiprocessing/queues.py\", line 365, in get\n",
      "    with self._rlock:\n",
      "  File \"/global/home/users/abeverage/.conda/envs/astrods/lib/python3.9/multiprocessing/queues.py\", line 365, in get\n",
      "    with self._rlock:\n",
      "  File \"/global/home/users/abeverage/.conda/envs/astrods/lib/python3.9/multiprocessing/process.py\", line 108, in run\n",
      "    self._target(*self._args, **self._kwargs)\n",
      "  File \"/global/home/users/abeverage/.conda/envs/astrods/lib/python3.9/multiprocessing/process.py\", line 315, in _bootstrap\n",
      "    self.run()\n",
      "  File \"/global/home/users/abeverage/.conda/envs/astrods/lib/python3.9/multiprocessing/synchronize.py\", line 95, in __enter__\n",
      "    return self._semlock.__enter__()\n",
      "KeyboardInterrupt\n",
      "  File \"/global/home/users/abeverage/.conda/envs/astrods/lib/python3.9/multiprocessing/queues.py\", line 365, in get\n",
      "    with self._rlock:\n"
     ]
    },
    {
     "name": "stdout",
     "output_type": "stream",
     "text": [
      "  params:"
     ]
    },
    {
     "name": "stderr",
     "output_type": "stream",
     "text": [
      "  File \"/global/home/users/abeverage/.conda/envs/astrods/lib/python3.9/multiprocessing/synchronize.py\", line 95, in __enter__\n",
      "    return self._semlock.__enter__()\n",
      "  File \"/global/home/users/abeverage/.conda/envs/astrods/lib/python3.9/multiprocessing/synchronize.py\", line 95, in __enter__\n",
      "    return self._semlock.__enter__()\n",
      "  File \"/global/home/users/abeverage/.conda/envs/astrods/lib/python3.9/multiprocessing/process.py\", line 108, in run\n",
      "    self._target(*self._args, **self._kwargs)\n",
      "  File \"/global/home/users/abeverage/.conda/envs/astrods/lib/python3.9/multiprocessing/pool.py\", line 114, in worker\n",
      "    task = get()\n",
      "  File \"/global/home/users/abeverage/.conda/envs/astrods/lib/python3.9/multiprocessing/queues.py\", line 365, in get\n",
      "    with self._rlock:\n",
      "  File \"/global/home/users/abeverage/.conda/envs/astrods/lib/python3.9/multiprocessing/process.py\", line 315, in _bootstrap\n",
      "    self.run()\n",
      "  File \"/global/home/users/abeverage/.conda/envs/astrods/lib/python3.9/multiprocessing/process.py\", line 315, in _bootstrap\n",
      "    self.run()\n",
      "  File \"/global/home/users/abeverage/.conda/envs/astrods/lib/python3.9/multiprocessing/process.py\", line 315, in _bootstrap\n",
      "    self.run()\n",
      "  File \"/global/home/users/abeverage/.conda/envs/astrods/lib/python3.9/multiprocessing/pool.py\", line 114, in worker\n",
      "    task = get()\n",
      "  File \"/global/home/users/abeverage/.conda/envs/astrods/lib/python3.9/multiprocessing/queues.py\", line 366, in get\n",
      "    res = self._reader.recv_bytes()\n",
      "KeyboardInterrupt\n",
      "Traceback (most recent call last):\n",
      "  File \"/global/home/users/abeverage/.conda/envs/astrods/lib/python3.9/multiprocessing/queues.py\", line 365, in get\n",
      "    with self._rlock:\n",
      "  File \"/global/home/users/abeverage/.conda/envs/astrods/lib/python3.9/multiprocessing/pool.py\", line 114, in worker\n",
      "    task = get()\n",
      "  File \"/global/home/users/abeverage/.conda/envs/astrods/lib/python3.9/multiprocessing/synchronize.py\", line 95, in __enter__\n",
      "    return self._semlock.__enter__()\n",
      "  File \"/global/home/users/abeverage/.conda/envs/astrods/lib/python3.9/multiprocessing/synchronize.py\", line 95, in __enter__\n",
      "    return self._semlock.__enter__()\n",
      "  File \"/global/home/users/abeverage/.conda/envs/astrods/lib/python3.9/multiprocessing/process.py\", line 108, in run\n",
      "    self._target(*self._args, **self._kwargs)\n",
      "  File \"/global/home/users/abeverage/.conda/envs/astrods/lib/python3.9/multiprocessing/synchronize.py\", line 95, in __enter__\n",
      "    return self._semlock.__enter__()\n",
      "  File \"/global/home/users/abeverage/.conda/envs/astrods/lib/python3.9/multiprocessing/synchronize.py\", line 95, in __enter__\n",
      "    return self._semlock.__enter__()\n",
      "  File \"/global/home/users/abeverage/.conda/envs/astrods/lib/python3.9/multiprocessing/process.py\", line 315, in _bootstrap\n",
      "    self.run()\n",
      "  File \"/global/home/users/abeverage/.conda/envs/astrods/lib/python3.9/multiprocessing/pool.py\", line 114, in worker\n",
      "    task = get()\n",
      "  File \"/global/home/users/abeverage/.conda/envs/astrods/lib/python3.9/multiprocessing/process.py\", line 108, in run\n",
      "    self._target(*self._args, **self._kwargs)\n",
      "KeyboardInterrupt\n",
      "  File \"/global/home/users/abeverage/.conda/envs/astrods/lib/python3.9/multiprocessing/process.py\", line 108, in run\n",
      "    self._target(*self._args, **self._kwargs)\n"
     ]
    },
    {
     "name": "stdout",
     "output_type": "stream",
     "text": [
      " "
     ]
    },
    {
     "name": "stderr",
     "output_type": "stream",
     "text": [
      "  File \"/global/home/users/abeverage/.conda/envs/astrods/lib/python3.9/multiprocessing/pool.py\", line 114, in worker\n",
      "    task = get()\n",
      "  File \"/global/home/users/abeverage/.conda/envs/astrods/lib/python3.9/multiprocessing/queues.py\", line 365, in get\n",
      "    with self._rlock:\n",
      "  File \"/global/home/users/abeverage/.conda/envs/astrods/lib/python3.9/multiprocessing/pool.py\", line 114, in worker\n",
      "    task = get()\n",
      "  File \"/global/home/users/abeverage/.conda/envs/astrods/lib/python3.9/multiprocessing/queues.py\", line 365, in get\n",
      "    with self._rlock:\n",
      "KeyboardInterrupt\n",
      "  File \"/global/home/users/abeverage/.conda/envs/astrods/lib/python3.9/multiprocessing/queues.py\", line 365, in get\n",
      "    with self._rlock:\n",
      "  File \"/global/home/users/abeverage/.conda/envs/astrods/lib/python3.9/multiprocessing/process.py\", line 315, in _bootstrap\n",
      "    self.run()\n",
      "  File \"/global/home/users/abeverage/.conda/envs/astrods/lib/python3.9/multiprocessing/connection.py\", line 221, in recv_bytes\n",
      "    buf = self._recv_bytes(maxlength)\n",
      "  File \"/global/home/users/abeverage/.conda/envs/astrods/lib/python3.9/multiprocessing/synchronize.py\", line 95, in __enter__\n",
      "    return self._semlock.__enter__()\n",
      "  File \"/global/home/users/abeverage/.conda/envs/astrods/lib/python3.9/multiprocessing/process.py\", line 108, in run\n",
      "    self._target(*self._args, **self._kwargs)\n",
      "  File \"/global/home/users/abeverage/.conda/envs/astrods/lib/python3.9/multiprocessing/synchronize.py\", line 95, in __enter__\n",
      "    return self._semlock.__enter__()\n",
      "  File \"/global/home/users/abeverage/.conda/envs/astrods/lib/python3.9/multiprocessing/queues.py\", line 365, in get\n",
      "    with self._rlock:\n",
      "  File \"/global/home/users/abeverage/.conda/envs/astrods/lib/python3.9/multiprocessing/queues.py\", line 365, in get\n",
      "    with self._rlock:\n",
      "KeyboardInterrupt\n",
      "  File \"/global/home/users/abeverage/.conda/envs/astrods/lib/python3.9/multiprocessing/synchronize.py\", line 95, in __enter__\n",
      "    return self._semlock.__enter__()\n",
      "  File \"/global/home/users/abeverage/.conda/envs/astrods/lib/python3.9/multiprocessing/synchronize.py\", line 95, in __enter__\n",
      "    return self._semlock.__enter__()\n",
      "  File \"/global/home/users/abeverage/.conda/envs/astrods/lib/python3.9/multiprocessing/process.py\", line 108, in run\n",
      "    self._target(*self._args, **self._kwargs)\n",
      "KeyboardInterrupt\n",
      "  File \"/global/home/users/abeverage/.conda/envs/astrods/lib/python3.9/multiprocessing/queues.py\", line 365, in get\n",
      "    with self._rlock:\n",
      "  File \"/global/home/users/abeverage/.conda/envs/astrods/lib/python3.9/multiprocessing/pool.py\", line 114, in worker\n",
      "    task = get()\n",
      "KeyboardInterrupt\n",
      "KeyboardInterrupt\n",
      "KeyboardInterrupt\n",
      "  File \"/global/home/users/abeverage/.conda/envs/astrods/lib/python3.9/multiprocessing/pool.py\", line 114, in worker\n",
      "    task = get()\n",
      "  File \"/global/home/users/abeverage/.conda/envs/astrods/lib/python3.9/multiprocessing/synchronize.py\", line 95, in __enter__\n",
      "    return self._semlock.__enter__()\n",
      "  File \"/global/home/users/abeverage/.conda/envs/astrods/lib/python3.9/multiprocessing/synchronize.py\", line 95, in __enter__\n",
      "    return self._semlock.__enter__()\n",
      "KeyboardInterrupt\n",
      "KeyboardInterrupt\n",
      "  File \"/global/home/users/abeverage/.conda/envs/astrods/lib/python3.9/multiprocessing/pool.py\", line 114, in worker\n",
      "    task = get()\n",
      "KeyboardInterrupt\n",
      "  File \"/global/home/users/abeverage/.conda/envs/astrods/lib/python3.9/multiprocessing/pool.py\", line 114, in worker\n",
      "    task = get()\n",
      "  File \"/global/home/users/abeverage/.conda/envs/astrods/lib/python3.9/multiprocessing/synchronize.py\", line 95, in __enter__\n",
      "    return self._semlock.__enter__()\n",
      "  File \"/global/home/users/abeverage/.conda/envs/astrods/lib/python3.9/multiprocessing/synchronize.py\", line 95, in __enter__\n",
      "    return self._semlock.__enter__()\n",
      "KeyboardInterrupt\n",
      "  File \"/global/home/users/abeverage/.conda/envs/astrods/lib/python3.9/multiprocessing/queues.py\", line 365, in get\n",
      "    with self._rlock:\n",
      "KeyboardInterrupt\n"
     ]
    },
    {
     "name": "stdout",
     "output_type": "stream",
     "text": [
      "[ 2.57952688e-02  1.99912949e+02  3.39074406e-01  5.69835630e-02\n",
      " -1.65108029e-01 -7.40173988e-02 -1.10937641e-01 -7.49420253e-02\n",
      "  1.44095906e-01 -1.88329836e-01 -1.54120911e-01  1.80867838e-01\n",
      "  5.78009424e-02 -1.84781179e-01 -1.79771165e-01  1.20037278e-01]"
     ]
    },
    {
     "name": "stderr",
     "output_type": "stream",
     "text": [
      "  File \"/global/home/users/abeverage/.conda/envs/astrods/lib/python3.9/multiprocessing/queues.py\", line 365, in get\n",
      "    with self._rlock:\n",
      "  File \"/global/home/users/abeverage/.conda/envs/astrods/lib/python3.9/multiprocessing/synchronize.py\", line 95, in __enter__\n",
      "    return self._semlock.__enter__()\n",
      "  File \"/global/home/users/abeverage/.conda/envs/astrods/lib/python3.9/multiprocessing/queues.py\", line 365, in get\n",
      "    with self._rlock:\n",
      "KeyboardInterrupt\n",
      "  File \"/global/home/users/abeverage/.conda/envs/astrods/lib/python3.9/multiprocessing/synchronize.py\", line 95, in __enter__\n",
      "    return self._semlock.__enter__()\n",
      "KeyboardInterrupt\n",
      "  File \"/global/home/users/abeverage/.conda/envs/astrods/lib/python3.9/multiprocessing/process.py\", line 108, in run\n",
      "    self._target(*self._args, **self._kwargs)\n"
     ]
    },
    {
     "name": "stdout",
     "output_type": "stream",
     "text": [
      "\n"
     ]
    },
    {
     "name": "stderr",
     "output_type": "stream",
     "text": [
      "  File \"/global/home/users/abeverage/.conda/envs/astrods/lib/python3.9/multiprocessing/process.py\", line 315, in _bootstrap\n",
      "    self.run()\n",
      "  File \"/global/home/users/abeverage/.conda/envs/astrods/lib/python3.9/multiprocessing/synchronize.py\", line 95, in __enter__\n",
      "    return self._semlock.__enter__()\n",
      "  File \"/global/home/users/abeverage/.conda/envs/astrods/lib/python3.9/multiprocessing/connection.py\", line 419, in _recv_bytes\n",
      "    buf = self._recv(4)\n",
      "  File \"/global/home/users/abeverage/.conda/envs/astrods/lib/python3.9/multiprocessing/queues.py\", line 365, in get\n",
      "    with self._rlock:\n",
      "KeyboardInterrupt\n",
      "  File \"/global/home/users/abeverage/.conda/envs/astrods/lib/python3.9/multiprocessing/synchronize.py\", line 95, in __enter__\n",
      "    return self._semlock.__enter__()\n",
      "  File \"/global/home/users/abeverage/.conda/envs/astrods/lib/python3.9/multiprocessing/connection.py\", line 384, in _recv\n",
      "    chunk = read(handle, remaining)\n",
      "KeyboardInterrupt\n",
      "KeyboardInterrupt\n",
      "KeyboardInterrupt\n"
     ]
    },
    {
     "name": "stdout",
     "output_type": "stream",
     "text": [
      "  args:"
     ]
    },
    {
     "name": "stderr",
     "output_type": "stream",
     "text": [
      "KeyboardInterrupt\n"
     ]
    },
    {
     "name": "stdout",
     "output_type": "stream",
     "text": [
      " "
     ]
    },
    {
     "name": "stderr",
     "output_type": "stream",
     "text": [
      "  File \"/global/home/users/abeverage/.conda/envs/astrods/lib/python3.9/multiprocessing/process.py\", line 108, in run\n",
      "    self._target(*self._args, **self._kwargs)\n"
     ]
    },
    {
     "name": "stdout",
     "output_type": "stream",
     "text": [
      "[]"
     ]
    },
    {
     "name": "stderr",
     "output_type": "stream",
     "text": [
      "  File \"/global/home/users/abeverage/.conda/envs/astrods/lib/python3.9/multiprocessing/pool.py\", line 114, in worker\n",
      "    task = get()\n"
     ]
    },
    {
     "name": "stdout",
     "output_type": "stream",
     "text": [
      "\n"
     ]
    },
    {
     "name": "stderr",
     "output_type": "stream",
     "text": [
      "  File \"/global/home/users/abeverage/.conda/envs/astrods/lib/python3.9/multiprocessing/queues.py\", line 365, in get\n",
      "    with self._rlock:\n"
     ]
    },
    {
     "name": "stdout",
     "output_type": "stream",
     "text": [
      "  kwargs:"
     ]
    },
    {
     "name": "stderr",
     "output_type": "stream",
     "text": [
      "  File \"/global/home/users/abeverage/.conda/envs/astrods/lib/python3.9/multiprocessing/synchronize.py\", line 95, in __enter__\n",
      "    return self._semlock.__enter__()\n"
     ]
    },
    {
     "name": "stdout",
     "output_type": "stream",
     "text": [
      " "
     ]
    },
    {
     "name": "stderr",
     "output_type": "stream",
     "text": [
      "  File \"/global/home/users/abeverage/.conda/envs/astrods/lib/python3.9/multiprocessing/pool.py\", line 114, in worker\n",
      "    task = get()\n",
      "KeyboardInterrupt\n",
      "  File \"/global/home/users/abeverage/.conda/envs/astrods/lib/python3.9/multiprocessing/queues.py\", line 365, in get\n",
      "    with self._rlock:\n",
      "  File \"/global/home/users/abeverage/.conda/envs/astrods/lib/python3.9/multiprocessing/synchronize.py\", line 95, in __enter__\n",
      "    return self._semlock.__enter__()\n"
     ]
    },
    {
     "name": "stdout",
     "output_type": "stream",
     "text": [
      "{}"
     ]
    },
    {
     "name": "stderr",
     "output_type": "stream",
     "text": [
      "KeyboardInterrupt\n"
     ]
    },
    {
     "name": "stdout",
     "output_type": "stream",
     "text": [
      "\n",
      "  exception:\n"
     ]
    },
    {
     "name": "stderr",
     "output_type": "stream",
     "text": [
      "\n",
      "Traceback (most recent call last):\n",
      "  File \"/global/home/users/abeverage/.local/lib/python3.9/site-packages/emcee/ensemble.py\", line 624, in __call__\n",
      "    return self.f(x, *self.args, **self.kwargs)\n",
      "  File \"/tmp/ipykernel_860/2045824881.py\", line 37, in lnprob\n",
      "    return lp*lnlike(theta) #, data, grids)\n",
      "  File \"/tmp/ipykernel_860/2045824881.py\", line 19, in lnlike\n",
      "    mflux = grids.get_model(params,outwave=data.wave)\n",
      "  File \"/global/home/users/abeverage/alfalpha/alfa/grids.py\", line 89, in get_model\n",
      "    spec *= interp([params['logage'],params['zH'],value])\n",
      "  File \"/global/home/users/abeverage/.local/lib/python3.9/site-packages/scipy/interpolate/_interpolate.py\", line 2533, in __call__\n",
      "    result = self._evaluate_linear(indices,\n",
      "  File \"/global/home/users/abeverage/.local/lib/python3.9/site-packages/scipy/interpolate/_interpolate.py\", line 2557, in _evaluate_linear\n",
      "    values += np.asarray(self.values[edge_indices]) * weight[vslice]\n",
      "KeyboardInterrupt\n",
      "Process ForkPoolWorker-23:\n",
      "Traceback (most recent call last):\n",
      "  File \"/global/home/users/abeverage/.conda/envs/astrods/lib/python3.9/multiprocessing/process.py\", line 315, in _bootstrap\n",
      "    self.run()\n",
      "  File \"/global/home/users/abeverage/.conda/envs/astrods/lib/python3.9/multiprocessing/process.py\", line 108, in run\n",
      "    self._target(*self._args, **self._kwargs)\n",
      "  File \"/global/home/users/abeverage/.conda/envs/astrods/lib/python3.9/multiprocessing/pool.py\", line 125, in worker\n",
      "    result = (True, func(*args, **kwds))\n",
      "  File \"/global/home/users/abeverage/.conda/envs/astrods/lib/python3.9/multiprocessing/pool.py\", line 48, in mapstar\n",
      "    return list(map(*args))\n",
      "  File \"/global/home/users/abeverage/.local/lib/python3.9/site-packages/emcee/ensemble.py\", line 624, in __call__\n",
      "    return self.f(x, *self.args, **self.kwargs)\n",
      "  File \"/tmp/ipykernel_860/2045824881.py\", line 37, in lnprob\n",
      "    return lp*lnlike(theta) #, data, grids)\n",
      "  File \"/tmp/ipykernel_860/2045824881.py\", line 19, in lnlike\n",
      "    mflux = grids.get_model(params,outwave=data.wave)\n",
      "  File \"/global/home/users/abeverage/alfalpha/alfa/grids.py\", line 89, in get_model\n",
      "    spec *= interp([params['logage'],params['zH'],value])\n",
      "  File \"/global/home/users/abeverage/.local/lib/python3.9/site-packages/scipy/interpolate/_interpolate.py\", line 2533, in __call__\n",
      "    result = self._evaluate_linear(indices,\n",
      "  File \"/global/home/users/abeverage/.local/lib/python3.9/site-packages/scipy/interpolate/_interpolate.py\", line 2557, in _evaluate_linear\n",
      "    values += np.asarray(self.values[edge_indices]) * weight[vslice]\n",
      "KeyboardInterrupt\n"
     ]
    }
   ],
   "source": [
    "    with Pool() as pool:    \n",
    "        # initialize walkers\n",
    "        pos = np.array(default_pos) + \\\n",
    "                    1e-4 * np.random.randn(nwalkers, len(parameters_to_fit))\n",
    "        nwalkers, ndim = pos.shape\n",
    "\n",
    "        # open file for saving steps\n",
    "        backend = emcee.backends.HDFBackend(f\"{ALFA_OUT}{filename}.h5\")\n",
    "        backend.reset(nwalkers, ndim)\n",
    "\n",
    "        #sample\n",
    "        sampler = emcee.EnsembleSampler(\n",
    "            nwalkers, ndim, lnprob, backend=backend, pool=pool #, args=(data,grids)\n",
    "              )\n",
    "        sampler.run_mcmc(pos, nsteps, progress=True);"
   ]
  },
  {
   "cell_type": "code",
   "execution_count": null,
   "id": "0eba076f",
   "metadata": {},
   "outputs": [],
   "source": []
  }
 ],
 "metadata": {
  "kernelspec": {
   "display_name": "astrods",
   "language": "python",
   "name": "astrods"
  },
  "language_info": {
   "codemirror_mode": {
    "name": "ipython",
    "version": 3
   },
   "file_extension": ".py",
   "mimetype": "text/x-python",
   "name": "python",
   "nbconvert_exporter": "python",
   "pygments_lexer": "ipython3",
   "version": "3.9.10"
  }
 },
 "nbformat": 4,
 "nbformat_minor": 5
}
